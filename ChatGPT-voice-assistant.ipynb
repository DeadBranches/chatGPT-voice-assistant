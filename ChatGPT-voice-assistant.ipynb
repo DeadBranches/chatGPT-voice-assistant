{
 "cells": [
  {
   "cell_type": "markdown",
   "metadata": {},
   "source": [
    "### Text to speech"
   ]
  },
  {
   "cell_type": "code",
   "execution_count": null,
   "metadata": {},
   "outputs": [],
   "source": [
    "!pip3 install --user future==0.18.2\n",
    "!pip3 install --user --upgrade google-cloud-texttospeech==2.12.3\n",
    "!pip3 install google-auth\n",
    "!pip3 install google-auth[pyopenssl]"
   ]
  },
  {
   "cell_type": "markdown",
   "metadata": {},
   "source": [
    "### Speech to text libraries"
   ]
  },
  {
   "cell_type": "code",
   "execution_count": null,
   "metadata": {},
   "outputs": [],
   "source": [
    "# stuff for speech to text\n",
    "!pip3 install --user git+https://github.com/openai/whisper.git\n",
    "!pip3 install --user gradio\n",
    "!pip3 install -q --user ipywidgets\n",
    "# from speech to text\n",
    "import whisper\n",
    "import gradio as gr\n",
    "import time\n",
    "import warnings\n"
   ]
  },
  {
   "cell_type": "code",
   "execution_count": null,
   "metadata": {},
   "outputs": [],
   "source": [
    "# ChatGPT secret token\n",
    "secret_token = \"eyJhbGciOiJkaXIiLCJlbmMiOiJBMjU2R0NNIn0..Wmiwa74JQuSC3ppz.Sbxtkz2ZWN2tErJH2OeASZ3r48fRoNqwJ8zEY1RXHr6upljVbSV_jOiNTYPZkeN_FpQptLjmAab0GTQ8orqyBEA76MKEl0Bo9JtIH8EK5xtESzS84SyMxYvGAoUaUHe7c2aFB4DEq7DYgPb6-oXuyz43BNKZschyjP3toq7_EqrZpbsH2dvDibGQ4VKcBB2iHWuzA71o94BjioW59nO-p5vwdH9tBdRxvD3WD-wIdo5hJ9Sbnv026NBDASHO_aF-EGqVuoQaV9Kpitp35dBjoz1yXkjZymJ_rZ_YSe4-gns37klS_YyIU_0OPm26dEyah6HqFhw8RnB1C8mzOY75aeacdMFOgzYe7EZiQbGShxAvi4k9JgiBLG0dpkZa3u7Q5VPbVJusvcrnAD_r6jUmVhV9uitZhAMa8lNKOdlpTC6tClpIXAHAbFcTSf8xi4cnQXw9eEAcmERhBhU4BS9d25YVmaddTHho_bteVx_86CePy_Y-B0v0muFKC8gOaytqTlUHXC9GgCAdKUsBOrNfrogIVacM1fckQJgoJsMuw5A5Txr0IDxVXkPzvfyPg6ue9jH2LlU7V4x0RmXK5EBAi7Z_pL863OKTujYgJ1WjQvXEmeQaD1ylmoEgKpsg7xYpKSVZP1hWcCh09RGoAPhCjeJBK45ZeobT18IULnUmp_IXPJPr-Uo2rEJAq7yHckfAaCce4anjGIK08o3bjBxFJexdi20HQ6QIdcSgtYBiE29rZwZc5CqBWkD-pm30DnnCWe1ViZYLXUD1iU8qPlfvuJI5SR6PiZke6kdd1ymieFuqB823yM9W-ewfpEikWBANBFN-qGm6I0OHaajhMgDzrsfrw7ncLf_ZUOtSMYW2r4gxHIkpRDUT0n2oR7MPQdKbXq1JQjjj-NK1IbkQh-pqgpLsj-X4gNgvPUvaLaYhixTZEc5_sBdZnj0ULSpjZ-vsiOGxgfL2h5Qiqo3FYdLUMd2qCrUbK6a7-bM6_Zyk-UigAbnmLEE-ZwDkQWztKVrZkDoifl0lam_Sb6AGE2PGGiFJw7Hd35kQ15GzuaNG-uuMXMKdnIghAxlcBTeYL1ldfuyouVks-fkSJiCdDCakUs2X_ainOhZ1E4GQum10CIwEEDTnzlTKceCZ7ZWAuxTraiiIaHPVYgZ1WZCNrQT9dXQutCKjqsr3Dl7VBy0MhhFmKT3bknfdB-pLgnAPCvErMwVZVnued4SGTBuUJpSvFElaZULl0tiZAXjbnkX1wOOviJ9QISlwiUhRVtHD5Q7NoiQxckaEGwU7hw1-9iSMlycGbzOweF6ErHyVvFrMB-iq9QBly222cdzDQNB9pCZBf2T0KH542rAQpMhRCRzLscduQvm6XNsNx4jnq265vgWtzeIp5IobZhmkQxxAYNwga_FTkGgGrif1lwvRKMP808cq4XPT_7wLS-bMYquTDg5_bpYeSBW-2OMjgaL2CWUP7ARPXZwCvnmN0bRREm9E7K49u8Knd1Kam2UzbEII5MbeCviqJSp5skrysfYx3pmRYH6ThYTXc7B62YUvZE_avc_DzZ56bWPHmHSrAux4dqgcS3PFzpEpi0mHVwYzWGb0pZlREawUHDFuiNJK_Y_ztkXXAjC-I01v1PRZOm3SVST6ME8nCdZuwTZGg8ykZBRbBmG2o605sRf_irzOTxZ9E-NIHMO89_mJaSoqY90-4hhWxWvtZkNckAgJNIhOeXqeA0NUKAwcsogNORSbA6BzlMv8GMe8oWNZJ5dSpVrertKnKTlyicqqFb7uMdE1OaQ6yF0pYXl-b4U6wleX5IL32iDHeROofUjtR__qrCFEF8SufZmeqVoWk-EdV9l50aQAST744MpW31MLHCtaCI7PpgrSHKNjkWk1qR6bx4JH6GRa63mAF75QgfPToTkhEJL5PfLfKshccMTocVaAPYrGI7Cw_LeDsC1XxPlExq_ICrB9A_IqRhq7dtV9kc-grA1EwRekPtgyhu9avzSI3DnYKW43yOXsw6lQkB5FJZPsKzQLwA_LOHeL3ZuiK0qcJSJPWDxKuo9MQR4BtPTt1LSc6urboS65E--8diOVQwSPgG-l6_f7kDvN9Nk3-Wu8bn2Gh69eew93mLrQxQqZtNSfBm2OpOaoF4q1B0n_OgKx5NiAgd73nPiwdrvbVm3GSShPm5eX_BhspJH4OAXhRpnpzutZTKXvFzZby5tNWwndad06hFEWXyvTNz-Q4dCJPU2Blch_17h-8D4b5LlRXRhhZ5wmwzlKcYWPyNllzHX0bLHbrSKprs4TjtOB9AiAPsrvskWFJ7zjXboKPSTMI0zeoKkMOC_qsZKeEzqoKfTGi3XUY1mSMXv0SoNA__C95nuNTX34.5a_BhU7-0zgjUUuYZ4zHNQ\""
   ]
  },
  {
   "cell_type": "markdown",
   "metadata": {},
   "source": [
    "# Authentication"
   ]
  },
  {
   "cell_type": "markdown",
   "metadata": {},
   "source": [
    "### Google Cloud auth"
   ]
  },
  {
   "cell_type": "code",
   "execution_count": null,
   "metadata": {},
   "outputs": [],
   "source": [
    "# GoogleCloud Authentication\n",
    "import os\n",
    "os.environ[\"GOOGLE_APPLICATION_CREDENTIALS\"] = \"C:\\\\Users\\\\Rain\\\\Notebook\\\\key.json\"\n",
    "print(os.environ[\"GOOGLE_APPLICATION_CREDENTIALS\"])"
   ]
  },
  {
   "cell_type": "markdown",
   "metadata": {},
   "source": [
    "### ChatGPT auth"
   ]
  },
  {
   "cell_type": "code",
   "execution_count": null,
   "metadata": {},
   "outputs": [],
   "source": [
    "## ChatGPT Authentication\n",
    "\n",
    "# revChatGPT\n",
    "from revChatGPT.ChatGPT import Chatbot\n",
    "config={\n",
    "  \"session_token\": secret_token,\n",
    "  \"verbose\": True\n",
    "}\n",
    "\n",
    "# pyChatGPT\n",
    "# from pyChatGPT import ChatGPT"
   ]
  },
  {
   "cell_type": "markdown",
   "metadata": {},
   "source": [
    "# Defining Variables"
   ]
  },
  {
   "cell_type": "code",
   "execution_count": null,
   "metadata": {},
   "outputs": [],
   "source": [
    "warnings.filterwarnings(\"ignore\")\n",
    "model = whisper.load_model(\"base\")\n",
    "model.device"
   ]
  },
  {
   "cell_type": "code",
   "execution_count": null,
   "metadata": {},
   "outputs": [],
   "source": [
    "# Google TTS client initialization\n",
    "import google.cloud.texttospeech as tts\n",
    "client = tts.TextToSpeechClient()"
   ]
  },
  {
   "cell_type": "markdown",
   "metadata": {},
   "source": [
    "# Text to Speech"
   ]
  },
  {
   "cell_type": "code",
   "execution_count": null,
   "metadata": {},
   "outputs": [],
   "source": [
    "# Synth audio from text\n",
    "\n",
    "def text_to_wav(voice_name: str, text: str):\n",
    "    language_code = \"-\".join(voice_name.split(\"-\")[:2])\n",
    "    text_input = tts.SynthesisInput(text=text)\n",
    "    voice_params = tts.VoiceSelectionParams(\n",
    "        # language_code=language_code, name=voice_name\n",
    "        language_code=language_code, name=voice_name, ssml_gender=tts.SsmlVoiceGender.FEMALE\n",
    "    )\n",
    "    audio_config = tts.AudioConfig(audio_encoding=tts.AudioEncoding.LINEAR16)\n",
    "\n",
    "    response = client.synthesize_speech(\n",
    "        input=text_input, voice=voice_params, audio_config=audio_config\n",
    "    )\n",
    "\n",
    "    filename = f\"out.WAV\"\n",
    "    with open(filename, \"wb\") as out:\n",
    "        out.write(response.audio_content)\n",
    "        print(f'Generated speech saved to \"{filename}\"')"
   ]
  },
  {
   "cell_type": "markdown",
   "metadata": {},
   "source": [
    "# Speech to Text>ChatGPT"
   ]
  },
  {
   "cell_type": "code",
   "execution_count": null,
   "metadata": {},
   "outputs": [],
   "source": [
    "def transcribe(audio):\n",
    "\n",
    "    # load audio and pad/trim it to fit 30 seconds\n",
    "    audio = whisper.load_audio(audio)\n",
    "    audio = whisper.pad_or_trim(audio)\n",
    "\n",
    "    # make log-Mel spectrogram and move to the same device as the model\n",
    "    mel = whisper.log_mel_spectrogram(audio).to(model.device)\n",
    "\n",
    "    # detect the spoken language\n",
    "    _, probs = model.detect_language(mel)\n",
    "\n",
    "    # decode the audio\n",
    "    options = whisper.DecodingOptions()\n",
    "    result = whisper.decode(model, mel, options)\n",
    "    result_text = result.text\n",
    "\n",
    "    # Pass the generated text to Audio\n",
    "    # chatgpt_api = ChatGPT(secret_token)   # pyChatGPT\n",
    "    # resp = chatgpt_api.send_message(result_text) #pychatGPT\n",
    "    # out_result = resp['message']\n",
    "    chatgpt_api = Chatbot(config, conversation_id=None, parent_id=None) #revChat\n",
    "    resp = chatgpt_api.ask(result_text, conversation_id=None, parent_id=None) #revchat\n",
    "    print(resp)\n",
    "\n",
    "    text_to_wav(\"en-US-Wavenet-C\", resp['message'])\n",
    "    \n",
    "    import vlc\n",
    "    # creating a vlc instance\n",
    "    vlc_instance = vlc.Instance()\n",
    "    # creating a media player\n",
    "    player = vlc_instance.media_player_new()\n",
    "\n",
    "    # creating a media\n",
    "    media = vlc_instance.media_new(\"out.WAV\")\n",
    "\n",
    "    # setting media to the player\n",
    "    player.set_media(media)\n",
    "\n",
    "    player.audio_set_volume(30)\n",
    "    player.play()\n",
    "\n",
    "    out_result = resp['message']\n",
    "    return [result_text, out_result]"
   ]
  },
  {
   "cell_type": "markdown",
   "metadata": {},
   "source": [
    "### Web UI"
   ]
  },
  {
   "cell_type": "code",
   "execution_count": null,
   "metadata": {},
   "outputs": [],
   "source": [
    "output_1 = gr.Textbox(label=\"Speech to Text\")\n",
    "output_2 = gr.Textbox(label=\"ChatGPT Output\")\n",
    "\n",
    "\n",
    "gr.Interface(\n",
    "    title = 'OpenAI Whisper and ChatGPT ASR Gradio Web UI', \n",
    "    fn=transcribe, \n",
    "    inputs=[\n",
    "        gr.inputs.Audio(source=\"microphone\", type=\"filepath\")\n",
    "    ],\n",
    "\n",
    "    outputs=[\n",
    "        output_1,  output_2\n",
    "    ],\n",
    "    live=True).launch()"
   ]
  },
  {
   "cell_type": "code",
   "execution_count": null,
   "metadata": {},
   "outputs": [],
   "source": [
    "text_to_wav(\"en-US-Wavenet-C\", \"What is the temperature in Sydney?\")"
   ]
  },
  {
   "cell_type": "code",
   "execution_count": null,
   "metadata": {},
   "outputs": [],
   "source": [
    "# import vlc\n",
    "# # creating a vlc instance\n",
    "# vlc_instance = vlc.Instance()\n",
    "# # creating a media player\n",
    "# player = vlc_instance.media_player_new()\n",
    "\n",
    "# # creating a media\n",
    "# media = vlc_instance.media_new(\"out.WAV\")\n",
    "\n",
    "# # setting media to the player\n",
    "# player.set_media(media)\n",
    "\n",
    "# player.audio_set_volume(30)\n",
    "# player.play()"
   ]
  }
 ],
 "metadata": {
  "kernelspec": {
   "display_name": "Python 3.10.8 64-bit",
   "language": "python",
   "name": "python3"
  },
  "language_info": {
   "codemirror_mode": {
    "name": "ipython",
    "version": 3
   },
   "file_extension": ".py",
   "mimetype": "text/x-python",
   "name": "python",
   "nbconvert_exporter": "python",
   "pygments_lexer": "ipython3",
   "version": "3.10.8"
  },
  "orig_nbformat": 4,
  "vscode": {
   "interpreter": {
    "hash": "369f2c481f4da34e4445cda3fffd2e751bd1c4d706f27375911949ba6bb62e1c"
   }
  }
 },
 "nbformat": 4,
 "nbformat_minor": 2
}

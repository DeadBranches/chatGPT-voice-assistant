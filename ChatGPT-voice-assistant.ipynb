{
 "cells": [
  {
   "cell_type": "markdown",
   "metadata": {},
   "source": [
    "### Text to speech"
   ]
  },
  {
   "cell_type": "code",
   "execution_count": 2,
   "metadata": {},
   "outputs": [
    {
     "ename": "SyntaxError",
     "evalue": "invalid syntax (4096922234.py, line 1)",
     "output_type": "error",
     "traceback": [
      "\u001b[1;36m  Cell \u001b[1;32mIn[2], line 1\u001b[1;36m\u001b[0m\n\u001b[1;33m    pip3 install --user future==0.18.2\u001b[0m\n\u001b[1;37m         ^\u001b[0m\n\u001b[1;31mSyntaxError\u001b[0m\u001b[1;31m:\u001b[0m invalid syntax\n"
     ]
    }
   ],
   "source": [
    "!pip3 install --user future==0.18.2\n",
    "!pip3 install --user --upgrade google-cloud-texttospeech==2.12.3\n",
    "!pip3 install google-auth\n",
    "!pip3 install google-auth[pyopenssl]"
   ]
  },
  {
   "cell_type": "markdown",
   "metadata": {},
   "source": [
    "### Speech to text libraries"
   ]
  },
  {
   "cell_type": "code",
   "execution_count": 2,
   "metadata": {},
   "outputs": [
    {
     "name": "stdout",
     "output_type": "stream",
     "text": [
      "Collecting git+https://github.com/openai/whisper.git\n",
      "  Cloning https://github.com/openai/whisper.git to c:\\users\\rain\\appdata\\local\\temp\\pip-req-build-i1iq30ym\n",
      "  Resolved https://github.com/openai/whisper.git to commit 0b5dcfdef7ec04250b76e13f1630e32b0935ce76\n",
      "  Preparing metadata (setup.py): started\n",
      "  Preparing metadata (setup.py): finished with status 'done'\n",
      "Requirement already satisfied: numpy in c:\\python310\\lib\\site-packages (from whisper==1.0) (1.24.1)\n",
      "Requirement already satisfied: torch in c:\\python310\\lib\\site-packages (from whisper==1.0) (1.13.1+cu117)\n",
      "Requirement already satisfied: tqdm in c:\\python310\\lib\\site-packages (from whisper==1.0) (4.64.1)\n",
      "Requirement already satisfied: more-itertools in c:\\users\\rain\\appdata\\roaming\\python\\python310\\site-packages (from whisper==1.0) (9.0.0)\n",
      "Requirement already satisfied: transformers>=4.19.0 in c:\\users\\rain\\appdata\\roaming\\python\\python310\\site-packages (from whisper==1.0) (4.25.1)\n",
      "Requirement already satisfied: ffmpeg-python==0.2.0 in c:\\users\\rain\\appdata\\roaming\\python\\python310\\site-packages (from whisper==1.0) (0.2.0)\n",
      "Requirement already satisfied: future in c:\\users\\rain\\appdata\\roaming\\python\\python310\\site-packages (from ffmpeg-python==0.2.0->whisper==1.0) (0.18.2)\n",
      "Requirement already satisfied: pyyaml>=5.1 in c:\\users\\rain\\appdata\\roaming\\python\\python310\\site-packages (from transformers>=4.19.0->whisper==1.0) (6.0)\n",
      "Requirement already satisfied: regex!=2019.12.17 in c:\\users\\rain\\appdata\\roaming\\python\\python310\\site-packages (from transformers>=4.19.0->whisper==1.0) (2022.10.31)\n",
      "Requirement already satisfied: tokenizers!=0.11.3,<0.14,>=0.11.1 in c:\\python310\\lib\\site-packages (from transformers>=4.19.0->whisper==1.0) (0.13.2)\n",
      "Requirement already satisfied: packaging>=20.0 in c:\\users\\rain\\appdata\\roaming\\python\\python310\\site-packages (from transformers>=4.19.0->whisper==1.0) (21.3)\n",
      "Requirement already satisfied: filelock in c:\\users\\rain\\appdata\\roaming\\python\\python310\\site-packages (from transformers>=4.19.0->whisper==1.0) (3.9.0)\n",
      "Requirement already satisfied: requests in c:\\users\\rain\\appdata\\roaming\\python\\python310\\site-packages (from transformers>=4.19.0->whisper==1.0) (2.28.1)\n",
      "Requirement already satisfied: huggingface-hub<1.0,>=0.10.0 in c:\\users\\rain\\appdata\\roaming\\python\\python310\\site-packages (from transformers>=4.19.0->whisper==1.0) (0.11.1)\n",
      "Requirement already satisfied: colorama in c:\\users\\rain\\appdata\\roaming\\python\\python310\\site-packages (from tqdm->whisper==1.0) (0.4.5)\n",
      "Requirement already satisfied: typing-extensions in c:\\python310\\lib\\site-packages (from torch->whisper==1.0) (4.4.0)\n",
      "Requirement already satisfied: pyparsing!=3.0.5,>=2.0.2 in c:\\users\\rain\\appdata\\roaming\\python\\python310\\site-packages (from packaging>=20.0->transformers>=4.19.0->whisper==1.0) (3.0.9)\n",
      "Requirement already satisfied: idna<4,>=2.5 in c:\\users\\rain\\appdata\\roaming\\python\\python310\\site-packages (from requests->transformers>=4.19.0->whisper==1.0) (3.4)\n",
      "Requirement already satisfied: urllib3<1.27,>=1.21.1 in c:\\users\\rain\\appdata\\roaming\\python\\python310\\site-packages (from requests->transformers>=4.19.0->whisper==1.0) (1.26.13)\n",
      "Requirement already satisfied: certifi>=2017.4.17 in c:\\users\\rain\\appdata\\roaming\\python\\python310\\site-packages (from requests->transformers>=4.19.0->whisper==1.0) (2022.9.24)\n",
      "Requirement already satisfied: charset-normalizer<3,>=2 in c:\\users\\rain\\appdata\\roaming\\python\\python310\\site-packages (from requests->transformers>=4.19.0->whisper==1.0) (2.1.1)\n"
     ]
    },
    {
     "name": "stderr",
     "output_type": "stream",
     "text": [
      "WARNING: Ignoring invalid distribution -ip (c:\\python310\\lib\\site-packages)\n",
      "WARNING: Ignoring invalid distribution - (c:\\python310\\lib\\site-packages)\n",
      "WARNING: Ignoring invalid distribution -ip (c:\\python310\\lib\\site-packages)\n",
      "WARNING: Ignoring invalid distribution - (c:\\python310\\lib\\site-packages)\n",
      "  Running command git clone --filter=blob:none --quiet https://github.com/openai/whisper.git 'C:\\Users\\Rain\\AppData\\Local\\Temp\\pip-req-build-i1iq30ym'\n",
      "WARNING: Ignoring invalid distribution -ip (c:\\python310\\lib\\site-packages)\n",
      "WARNING: Ignoring invalid distribution - (c:\\python310\\lib\\site-packages)\n",
      "WARNING: Ignoring invalid distribution -ip (c:\\python310\\lib\\site-packages)\n",
      "WARNING: Ignoring invalid distribution - (c:\\python310\\lib\\site-packages)\n"
     ]
    },
    {
     "name": "stdout",
     "output_type": "stream",
     "text": [
      "Requirement already satisfied: gradio in c:\\users\\rain\\appdata\\roaming\\python\\python310\\site-packages (3.15.0)\n",
      "Requirement already satisfied: httpx in c:\\users\\rain\\appdata\\roaming\\python\\python310\\site-packages (from gradio) (0.23.1)\n",
      "Requirement already satisfied: websockets>=10.0 in c:\\python310\\lib\\site-packages (from gradio) (10.4)\n",
      "Requirement already satisfied: fsspec in c:\\users\\rain\\appdata\\roaming\\python\\python310\\site-packages (from gradio) (2022.11.0)\n",
      "Requirement already satisfied: pandas in c:\\users\\rain\\appdata\\roaming\\python\\python310\\site-packages (from gradio) (1.5.2)\n",
      "Requirement already satisfied: markdown-it-py[linkify,plugins] in c:\\users\\rain\\appdata\\roaming\\python\\python310\\site-packages (from gradio) (2.1.0)\n",
      "Requirement already satisfied: uvicorn in c:\\users\\rain\\appdata\\roaming\\python\\python310\\site-packages (from gradio) (0.19.0)\n",
      "Requirement already satisfied: pillow in c:\\python310\\lib\\site-packages (from gradio) (9.3.0)\n",
      "Requirement already satisfied: pydantic in c:\\python310\\lib\\site-packages (from gradio) (1.10.2)\n",
      "Requirement already satisfied: markupsafe in c:\\users\\rain\\appdata\\roaming\\python\\python310\\site-packages (from gradio) (2.1.1)\n",
      "Requirement already satisfied: numpy in c:\\python310\\lib\\site-packages (from gradio) (1.24.1)\n",
      "Requirement already satisfied: pycryptodome in c:\\python310\\lib\\site-packages (from gradio) (3.16.0)\n",
      "Requirement already satisfied: matplotlib in c:\\users\\rain\\appdata\\roaming\\python\\python310\\site-packages (from gradio) (3.6.2)\n",
      "Requirement already satisfied: jinja2 in c:\\users\\rain\\appdata\\roaming\\python\\python310\\site-packages (from gradio) (3.1.2)\n",
      "Requirement already satisfied: pydub in c:\\python310\\lib\\site-packages (from gradio) (0.25.1)\n",
      "Requirement already satisfied: requests in c:\\users\\rain\\appdata\\roaming\\python\\python310\\site-packages (from gradio) (2.28.1)\n",
      "Requirement already satisfied: fastapi in c:\\users\\rain\\appdata\\roaming\\python\\python310\\site-packages (from gradio) (0.88.0)\n",
      "Requirement already satisfied: altair>=4.2.0 in c:\\users\\rain\\appdata\\roaming\\python\\python310\\site-packages (from gradio) (4.2.0)\n",
      "Requirement already satisfied: python-multipart in c:\\python310\\lib\\site-packages (from gradio) (0.0.5)\n",
      "Requirement already satisfied: orjson in c:\\python310\\lib\\site-packages (from gradio) (3.8.3)\n",
      "Requirement already satisfied: ffmpy in c:\\python310\\lib\\site-packages (from gradio) (0.3.0)\n",
      "Requirement already satisfied: pyyaml in c:\\users\\rain\\appdata\\roaming\\python\\python310\\site-packages (from gradio) (6.0)\n",
      "Requirement already satisfied: aiohttp in c:\\users\\rain\\appdata\\roaming\\python\\python310\\site-packages (from gradio) (3.8.3)\n",
      "Requirement already satisfied: entrypoints in c:\\users\\rain\\appdata\\roaming\\python\\python310\\site-packages (from altair>=4.2.0->gradio) (0.4)\n",
      "Requirement already satisfied: toolz in c:\\python310\\lib\\site-packages (from altair>=4.2.0->gradio) (0.12.0)\n",
      "Requirement already satisfied: jsonschema>=3.0 in c:\\users\\rain\\appdata\\roaming\\python\\python310\\site-packages (from altair>=4.2.0->gradio) (4.17.3)\n",
      "Requirement already satisfied: pytz>=2020.1 in c:\\python310\\lib\\site-packages (from pandas->gradio) (2022.7)\n",
      "Requirement already satisfied: python-dateutil>=2.8.1 in c:\\users\\rain\\appdata\\roaming\\python\\python310\\site-packages (from pandas->gradio) (2.8.2)\n",
      "Requirement already satisfied: aiosignal>=1.1.2 in c:\\users\\rain\\appdata\\roaming\\python\\python310\\site-packages (from aiohttp->gradio) (1.3.1)\n",
      "Requirement already satisfied: charset-normalizer<3.0,>=2.0 in c:\\users\\rain\\appdata\\roaming\\python\\python310\\site-packages (from aiohttp->gradio) (2.1.1)\n",
      "Requirement already satisfied: async-timeout<5.0,>=4.0.0a3 in c:\\users\\rain\\appdata\\roaming\\python\\python310\\site-packages (from aiohttp->gradio) (4.0.2)\n",
      "Requirement already satisfied: yarl<2.0,>=1.0 in c:\\users\\rain\\appdata\\roaming\\python\\python310\\site-packages (from aiohttp->gradio) (1.8.2)\n",
      "Requirement already satisfied: multidict<7.0,>=4.5 in c:\\users\\rain\\appdata\\roaming\\python\\python310\\site-packages (from aiohttp->gradio) (6.0.4)\n",
      "Requirement already satisfied: attrs>=17.3.0 in c:\\python310\\lib\\site-packages (from aiohttp->gradio) (22.2.0)\n",
      "Requirement already satisfied: frozenlist>=1.1.1 in c:\\users\\rain\\appdata\\roaming\\python\\python310\\site-packages (from aiohttp->gradio) (1.3.3)\n",
      "Requirement already satisfied: starlette==0.22.0 in c:\\users\\rain\\appdata\\roaming\\python\\python310\\site-packages (from fastapi->gradio) (0.22.0)\n",
      "Requirement already satisfied: anyio<5,>=3.4.0 in c:\\users\\rain\\appdata\\roaming\\python\\python310\\site-packages (from starlette==0.22.0->fastapi->gradio) (3.6.2)\n",
      "Requirement already satisfied: typing-extensions>=4.1.0 in c:\\python310\\lib\\site-packages (from pydantic->gradio) (4.4.0)\n",
      "Requirement already satisfied: certifi in c:\\users\\rain\\appdata\\roaming\\python\\python310\\site-packages (from httpx->gradio) (2022.9.24)\n",
      "Requirement already satisfied: httpcore<0.17.0,>=0.15.0 in c:\\users\\rain\\appdata\\roaming\\python\\python310\\site-packages (from httpx->gradio) (0.16.3)\n",
      "Requirement already satisfied: rfc3986[idna2008]<2,>=1.3 in c:\\python310\\lib\\site-packages (from httpx->gradio) (1.5.0)\n",
      "Requirement already satisfied: sniffio in c:\\users\\rain\\appdata\\roaming\\python\\python310\\site-packages (from httpx->gradio) (1.3.0)\n",
      "Requirement already satisfied: mdurl~=0.1 in c:\\users\\rain\\appdata\\roaming\\python\\python310\\site-packages (from markdown-it-py[linkify,plugins]->gradio) (0.1.2)\n",
      "Requirement already satisfied: linkify-it-py~=1.0 in c:\\users\\rain\\appdata\\roaming\\python\\python310\\site-packages (from markdown-it-py[linkify,plugins]->gradio) (1.0.3)\n",
      "Requirement already satisfied: mdit-py-plugins in c:\\users\\rain\\appdata\\roaming\\python\\python310\\site-packages (from markdown-it-py[linkify,plugins]->gradio) (0.3.3)\n",
      "Requirement already satisfied: cycler>=0.10 in c:\\users\\rain\\appdata\\roaming\\python\\python310\\site-packages (from matplotlib->gradio) (0.11.0)\n",
      "Requirement already satisfied: pyparsing>=2.2.1 in c:\\users\\rain\\appdata\\roaming\\python\\python310\\site-packages (from matplotlib->gradio) (3.0.9)\n",
      "Requirement already satisfied: contourpy>=1.0.1 in c:\\users\\rain\\appdata\\roaming\\python\\python310\\site-packages (from matplotlib->gradio) (1.0.6)\n",
      "Requirement already satisfied: kiwisolver>=1.0.1 in c:\\users\\rain\\appdata\\roaming\\python\\python310\\site-packages (from matplotlib->gradio) (1.4.4)\n",
      "Requirement already satisfied: packaging>=20.0 in c:\\users\\rain\\appdata\\roaming\\python\\python310\\site-packages (from matplotlib->gradio) (21.3)\n",
      "Requirement already satisfied: fonttools>=4.22.0 in c:\\users\\rain\\appdata\\roaming\\python\\python310\\site-packages (from matplotlib->gradio) (4.38.0)\n",
      "Requirement already satisfied: six>=1.4.0 in c:\\users\\rain\\appdata\\roaming\\python\\python310\\site-packages (from python-multipart->gradio) (1.16.0)\n",
      "Requirement already satisfied: idna<4,>=2.5 in c:\\users\\rain\\appdata\\roaming\\python\\python310\\site-packages (from requests->gradio) (3.4)\n",
      "Requirement already satisfied: urllib3<1.27,>=1.21.1 in c:\\users\\rain\\appdata\\roaming\\python\\python310\\site-packages (from requests->gradio) (1.26.13)\n",
      "Requirement already satisfied: click>=7.0 in c:\\users\\rain\\appdata\\roaming\\python\\python310\\site-packages (from uvicorn->gradio) (8.1.3)\n",
      "Requirement already satisfied: h11>=0.8 in c:\\users\\rain\\appdata\\roaming\\python\\python310\\site-packages (from uvicorn->gradio) (0.14.0)\n",
      "Requirement already satisfied: colorama in c:\\users\\rain\\appdata\\roaming\\python\\python310\\site-packages (from click>=7.0->uvicorn->gradio) (0.4.5)\n",
      "Requirement already satisfied: pyrsistent!=0.17.0,!=0.17.1,!=0.17.2,>=0.14.0 in c:\\python310\\lib\\site-packages (from jsonschema>=3.0->altair>=4.2.0->gradio) (0.19.2)\n",
      "Requirement already satisfied: uc-micro-py in c:\\python310\\lib\\site-packages (from linkify-it-py~=1.0->markdown-it-py[linkify,plugins]->gradio) (1.0.1)\n"
     ]
    },
    {
     "name": "stderr",
     "output_type": "stream",
     "text": [
      "WARNING: Ignoring invalid distribution -ip (c:\\python310\\lib\\site-packages)\n",
      "WARNING: Ignoring invalid distribution - (c:\\python310\\lib\\site-packages)\n",
      "WARNING: Ignoring invalid distribution -ip (c:\\python310\\lib\\site-packages)\n",
      "WARNING: Ignoring invalid distribution - (c:\\python310\\lib\\site-packages)\n",
      "WARNING: Ignoring invalid distribution -ip (c:\\python310\\lib\\site-packages)\n",
      "WARNING: Ignoring invalid distribution - (c:\\python310\\lib\\site-packages)\n",
      "WARNING: Ignoring invalid distribution -ip (c:\\python310\\lib\\site-packages)\n",
      "WARNING: Ignoring invalid distribution - (c:\\python310\\lib\\site-packages)\n",
      "WARNING: Ignoring invalid distribution -ip (c:\\python310\\lib\\site-packages)\n",
      "WARNING: Ignoring invalid distribution - (c:\\python310\\lib\\site-packages)\n",
      "WARNING: Ignoring invalid distribution -ip (c:\\python310\\lib\\site-packages)\n",
      "WARNING: Ignoring invalid distribution - (c:\\python310\\lib\\site-packages)\n",
      "WARNING: Ignoring invalid distribution -ip (c:\\python310\\lib\\site-packages)\n",
      "WARNING: Ignoring invalid distribution - (c:\\python310\\lib\\site-packages)\n",
      "WARNING: Ignoring invalid distribution -ip (c:\\python310\\lib\\site-packages)\n",
      "WARNING: Ignoring invalid distribution - (c:\\python310\\lib\\site-packages)\n"
     ]
    }
   ],
   "source": [
    "# stuff for speech to text\n",
    "!pip3 install --user git+https://github.com/openai/whisper.git\n",
    "!pip3 install --user gradio\n",
    "!pip3 install -q --user ipywidgets\n",
    "# from speech to text\n",
    "import whisper\n",
    "import gradio as gr\n",
    "import time\n",
    "import warnings\n"
   ]
  },
  {
   "cell_type": "code",
   "execution_count": 61,
   "metadata": {},
   "outputs": [],
   "source": [
    "# global secret token definition\n",
    "secret_token = \"eyJhbGciOiJkaXIiLCJlbmMiOiJBMjU2R0NNIn0..Wmiwa74JQuSC3ppz.Sbxtkz2ZWN2tErJH2OeASZ3r48fRoNqwJ8zEY1RXHr6upljVbSV_jOiNTYPZkeN_FpQptLjmAab0GTQ8orqyBEA76MKEl0Bo9JtIH8EK5xtESzS84SyMxYvGAoUaUHe7c2aFB4DEq7DYgPb6-oXuyz43BNKZschyjP3toq7_EqrZpbsH2dvDibGQ4VKcBB2iHWuzA71o94BjioW59nO-p5vwdH9tBdRxvD3WD-wIdo5hJ9Sbnv026NBDASHO_aF-EGqVuoQaV9Kpitp35dBjoz1yXkjZymJ_rZ_YSe4-gns37klS_YyIU_0OPm26dEyah6HqFhw8RnB1C8mzOY75aeacdMFOgzYe7EZiQbGShxAvi4k9JgiBLG0dpkZa3u7Q5VPbVJusvcrnAD_r6jUmVhV9uitZhAMa8lNKOdlpTC6tClpIXAHAbFcTSf8xi4cnQXw9eEAcmERhBhU4BS9d25YVmaddTHho_bteVx_86CePy_Y-B0v0muFKC8gOaytqTlUHXC9GgCAdKUsBOrNfrogIVacM1fckQJgoJsMuw5A5Txr0IDxVXkPzvfyPg6ue9jH2LlU7V4x0RmXK5EBAi7Z_pL863OKTujYgJ1WjQvXEmeQaD1ylmoEgKpsg7xYpKSVZP1hWcCh09RGoAPhCjeJBK45ZeobT18IULnUmp_IXPJPr-Uo2rEJAq7yHckfAaCce4anjGIK08o3bjBxFJexdi20HQ6QIdcSgtYBiE29rZwZc5CqBWkD-pm30DnnCWe1ViZYLXUD1iU8qPlfvuJI5SR6PiZke6kdd1ymieFuqB823yM9W-ewfpEikWBANBFN-qGm6I0OHaajhMgDzrsfrw7ncLf_ZUOtSMYW2r4gxHIkpRDUT0n2oR7MPQdKbXq1JQjjj-NK1IbkQh-pqgpLsj-X4gNgvPUvaLaYhixTZEc5_sBdZnj0ULSpjZ-vsiOGxgfL2h5Qiqo3FYdLUMd2qCrUbK6a7-bM6_Zyk-UigAbnmLEE-ZwDkQWztKVrZkDoifl0lam_Sb6AGE2PGGiFJw7Hd35kQ15GzuaNG-uuMXMKdnIghAxlcBTeYL1ldfuyouVks-fkSJiCdDCakUs2X_ainOhZ1E4GQum10CIwEEDTnzlTKceCZ7ZWAuxTraiiIaHPVYgZ1WZCNrQT9dXQutCKjqsr3Dl7VBy0MhhFmKT3bknfdB-pLgnAPCvErMwVZVnued4SGTBuUJpSvFElaZULl0tiZAXjbnkX1wOOviJ9QISlwiUhRVtHD5Q7NoiQxckaEGwU7hw1-9iSMlycGbzOweF6ErHyVvFrMB-iq9QBly222cdzDQNB9pCZBf2T0KH542rAQpMhRCRzLscduQvm6XNsNx4jnq265vgWtzeIp5IobZhmkQxxAYNwga_FTkGgGrif1lwvRKMP808cq4XPT_7wLS-bMYquTDg5_bpYeSBW-2OMjgaL2CWUP7ARPXZwCvnmN0bRREm9E7K49u8Knd1Kam2UzbEII5MbeCviqJSp5skrysfYx3pmRYH6ThYTXc7B62YUvZE_avc_DzZ56bWPHmHSrAux4dqgcS3PFzpEpi0mHVwYzWGb0pZlREawUHDFuiNJK_Y_ztkXXAjC-I01v1PRZOm3SVST6ME8nCdZuwTZGg8ykZBRbBmG2o605sRf_irzOTxZ9E-NIHMO89_mJaSoqY90-4hhWxWvtZkNckAgJNIhOeXqeA0NUKAwcsogNORSbA6BzlMv8GMe8oWNZJ5dSpVrertKnKTlyicqqFb7uMdE1OaQ6yF0pYXl-b4U6wleX5IL32iDHeROofUjtR__qrCFEF8SufZmeqVoWk-EdV9l50aQAST744MpW31MLHCtaCI7PpgrSHKNjkWk1qR6bx4JH6GRa63mAF75QgfPToTkhEJL5PfLfKshccMTocVaAPYrGI7Cw_LeDsC1XxPlExq_ICrB9A_IqRhq7dtV9kc-grA1EwRekPtgyhu9avzSI3DnYKW43yOXsw6lQkB5FJZPsKzQLwA_LOHeL3ZuiK0qcJSJPWDxKuo9MQR4BtPTt1LSc6urboS65E--8diOVQwSPgG-l6_f7kDvN9Nk3-Wu8bn2Gh69eew93mLrQxQqZtNSfBm2OpOaoF4q1B0n_OgKx5NiAgd73nPiwdrvbVm3GSShPm5eX_BhspJH4OAXhRpnpzutZTKXvFzZby5tNWwndad06hFEWXyvTNz-Q4dCJPU2Blch_17h-8D4b5LlRXRhhZ5wmwzlKcYWPyNllzHX0bLHbrSKprs4TjtOB9AiAPsrvskWFJ7zjXboKPSTMI0zeoKkMOC_qsZKeEzqoKfTGi3XUY1mSMXv0SoNA__C95nuNTX34.5a_BhU7-0zgjUUuYZ4zHNQ\""
   ]
  },
  {
   "cell_type": "markdown",
   "metadata": {},
   "source": [
    "# Authentication"
   ]
  },
  {
   "cell_type": "markdown",
   "metadata": {},
   "source": [
    "### Google Cloud auth"
   ]
  },
  {
   "cell_type": "code",
   "execution_count": 32,
   "metadata": {},
   "outputs": [
    {
     "name": "stdout",
     "output_type": "stream",
     "text": [
      "C:\\Users\\Rain\\Notebook\\key.json\n"
     ]
    }
   ],
   "source": [
    "# GoogleCloud Authentication\n",
    "import os\n",
    "os.environ[\"GOOGLE_APPLICATION_CREDENTIALS\"] = \"C:\\\\Users\\\\Rain\\\\Notebook\\\\key.json\"\n",
    "print(os.environ[\"GOOGLE_APPLICATION_CREDENTIALS\"])"
   ]
  },
  {
   "cell_type": "markdown",
   "metadata": {},
   "source": [
    "### ChatGPT auth"
   ]
  },
  {
   "cell_type": "code",
   "execution_count": 33,
   "metadata": {},
   "outputs": [],
   "source": [
    "## ChatGPT Authentication\n",
    "\n",
    "# revChatGPT\n",
    "from revChatGPT.ChatGPT import Chatbot\n",
    "config={\n",
    "  \"session_token\": secret_token,\n",
    "  \"verbose\": True\n",
    "}\n",
    "\n",
    "# pyChatGPT\n",
    "# from pyChatGPT import ChatGPT"
   ]
  },
  {
   "cell_type": "markdown",
   "metadata": {},
   "source": [
    "# Defining Variables"
   ]
  },
  {
   "cell_type": "code",
   "execution_count": 34,
   "metadata": {},
   "outputs": [
    {
     "data": {
      "text/plain": [
       "device(type='cuda', index=0)"
      ]
     },
     "execution_count": 34,
     "metadata": {},
     "output_type": "execute_result"
    }
   ],
   "source": [
    "warnings.filterwarnings(\"ignore\")\n",
    "model = whisper.load_model(\"base\")\n",
    "model.device"
   ]
  },
  {
   "cell_type": "code",
   "execution_count": 35,
   "metadata": {},
   "outputs": [],
   "source": [
    "# Google TTS client initialization\n",
    "import google.cloud.texttospeech as tts\n",
    "client = tts.TextToSpeechClient()"
   ]
  },
  {
   "cell_type": "markdown",
   "metadata": {},
   "source": [
    "# Text to Speech"
   ]
  },
  {
   "cell_type": "code",
   "execution_count": 63,
   "metadata": {},
   "outputs": [],
   "source": [
    "# Synth audio from text\n",
    "\n",
    "def text_to_wav(voice_name: str, text: str):\n",
    "    language_code = \"-\".join(voice_name.split(\"-\")[:2])\n",
    "    text_input = tts.SynthesisInput(text=text)\n",
    "    voice_params = tts.VoiceSelectionParams(\n",
    "        # language_code=language_code, name=voice_name\n",
    "        language_code=language_code, name=voice_name, ssml_gender=tts.SsmlVoiceGender.FEMALE\n",
    "    )\n",
    "    audio_config = tts.AudioConfig(audio_encoding=tts.AudioEncoding.LINEAR16)\n",
    "\n",
    "    response = client.synthesize_speech(\n",
    "        input=text_input, voice=voice_params, audio_config=audio_config\n",
    "    )\n",
    "\n",
    "    filename = f\"out.WAV\"\n",
    "    with open(filename, \"wb\") as out:\n",
    "        out.write(response.audio_content)\n",
    "        print(f'Generated speech saved to \"{filename}\"')"
   ]
  },
  {
   "cell_type": "markdown",
   "metadata": {},
   "source": [
    "# Speech to Text>ChatGPT"
   ]
  },
  {
   "cell_type": "code",
   "execution_count": 66,
   "metadata": {},
   "outputs": [],
   "source": [
    "def transcribe(audio):\n",
    "\n",
    "    # load audio and pad/trim it to fit 30 seconds\n",
    "    audio = whisper.load_audio(audio)\n",
    "    audio = whisper.pad_or_trim(audio)\n",
    "\n",
    "    # make log-Mel spectrogram and move to the same device as the model\n",
    "    mel = whisper.log_mel_spectrogram(audio).to(model.device)\n",
    "\n",
    "    # detect the spoken language\n",
    "    _, probs = model.detect_language(mel)\n",
    "\n",
    "    # decode the audio\n",
    "    options = whisper.DecodingOptions()\n",
    "    result = whisper.decode(model, mel, options)\n",
    "    result_text = result.text\n",
    "\n",
    "    # Pass the generated text to Audio\n",
    "    # chatgpt_api = ChatGPT(secret_token)   # pyChatGPT\n",
    "    # resp = chatgpt_api.send_message(result_text) #pychatGPT\n",
    "    # out_result = resp['message']\n",
    "    chatgpt_api = Chatbot(config, conversation_id=None, parent_id=None) #revChat\n",
    "    resp = chatgpt_api.ask(result_text, conversation_id=None, parent_id=None) #revchat\n",
    "    print(resp)\n",
    "\n",
    "    text_to_wav(\"en-US-Wavenet-C\", resp['message'])\n",
    "    \n",
    "    import vlc\n",
    "    # creating a vlc instance\n",
    "    vlc_instance = vlc.Instance()\n",
    "    # creating a media player\n",
    "    player = vlc_instance.media_player_new()\n",
    "\n",
    "    # creating a media\n",
    "    media = vlc_instance.media_new(\"out.WAV\")\n",
    "\n",
    "    # setting media to the player\n",
    "    player.set_media(media)\n",
    "\n",
    "    player.audio_set_volume(30)\n",
    "    player.play()\n",
    "\n",
    "    out_result = resp['message']\n",
    "    return [result_text, out_result]"
   ]
  },
  {
   "cell_type": "markdown",
   "metadata": {},
   "source": [
    "### Web UI"
   ]
  },
  {
   "cell_type": "code",
   "execution_count": 1,
   "metadata": {},
   "outputs": [
    {
     "ename": "NameError",
     "evalue": "name 'gr' is not defined",
     "output_type": "error",
     "traceback": [
      "\u001b[1;31m---------------------------------------------------------------------------\u001b[0m",
      "\u001b[1;31mNameError\u001b[0m                                 Traceback (most recent call last)",
      "Cell \u001b[1;32mIn[1], line 1\u001b[0m\n\u001b[1;32m----> 1\u001b[0m output_1 \u001b[39m=\u001b[39m gr\u001b[39m.\u001b[39mTextbox(label\u001b[39m=\u001b[39m\u001b[39m\"\u001b[39m\u001b[39mSpeech to Text\u001b[39m\u001b[39m\"\u001b[39m)\n\u001b[0;32m      2\u001b[0m output_2 \u001b[39m=\u001b[39m gr\u001b[39m.\u001b[39mTextbox(label\u001b[39m=\u001b[39m\u001b[39m\"\u001b[39m\u001b[39mChatGPT Output\u001b[39m\u001b[39m\"\u001b[39m)\n\u001b[0;32m      5\u001b[0m gr\u001b[39m.\u001b[39mInterface(\n\u001b[0;32m      6\u001b[0m     title \u001b[39m=\u001b[39m \u001b[39m'\u001b[39m\u001b[39mOpenAI Whisper and ChatGPT ASR Gradio Web UI\u001b[39m\u001b[39m'\u001b[39m, \n\u001b[0;32m      7\u001b[0m     fn\u001b[39m=\u001b[39mtranscribe, \n\u001b[1;32m   (...)\u001b[0m\n\u001b[0;32m     14\u001b[0m     ],\n\u001b[0;32m     15\u001b[0m     live\u001b[39m=\u001b[39m\u001b[39mTrue\u001b[39;00m)\u001b[39m.\u001b[39mlaunch()\n",
      "\u001b[1;31mNameError\u001b[0m: name 'gr' is not defined"
     ]
    }
   ],
   "source": [
    "output_1 = gr.Textbox(label=\"Speech to Text\")\n",
    "output_2 = gr.Textbox(label=\"ChatGPT Output\")\n",
    "\n",
    "\n",
    "gr.Interface(\n",
    "    title = 'OpenAI Whisper and ChatGPT ASR Gradio Web UI', \n",
    "    fn=transcribe, \n",
    "    inputs=[\n",
    "        gr.inputs.Audio(source=\"microphone\", type=\"filepath\")\n",
    "    ],\n",
    "\n",
    "    outputs=[\n",
    "        output_1,  output_2\n",
    "    ],\n",
    "    live=True).launch()"
   ]
  },
  {
   "cell_type": "code",
   "execution_count": 68,
   "metadata": {},
   "outputs": [
    {
     "name": "stdout",
     "output_type": "stream",
     "text": [
      "Generated speech saved to \"out.WAV\"\n"
     ]
    },
    {
     "name": "stdout",
     "output_type": "stream",
     "text": [
      "Spawning browser...\n",
      "Browser spawned.\n",
      "Found Cloudflare Cookie!\n",
      "\u001b[92mCloudflare Cookie: \u001b[0mla3PdvSwt8wlwopPN.ZMAun51eJH3kvH2_Ibn7fgBkk-1672286040-0-1-437144d8.9345e4a9.b272eda3-160\n",
      "{\"detail\":\"Something went wrong, please try reloading the conversation.\"}\n"
     ]
    },
    {
     "name": "stderr",
     "output_type": "stream",
     "text": [
      "Traceback (most recent call last):\n",
      "  File \"C:\\Users\\Rain\\AppData\\Roaming\\Python\\Python310\\site-packages\\gradio\\routes.py\", line 321, in run_predict\n",
      "    output = await app.blocks.process_api(\n",
      "  File \"C:\\Users\\Rain\\AppData\\Roaming\\Python\\Python310\\site-packages\\gradio\\blocks.py\", line 1015, in process_api\n",
      "    result = await self.call_function(fn_index, inputs, iterator, request)\n",
      "  File \"C:\\Users\\Rain\\AppData\\Roaming\\Python\\Python310\\site-packages\\gradio\\blocks.py\", line 856, in call_function\n",
      "    prediction = await anyio.to_thread.run_sync(\n",
      "  File \"C:\\Users\\Rain\\AppData\\Roaming\\Python\\Python310\\site-packages\\anyio\\to_thread.py\", line 31, in run_sync\n",
      "    return await get_asynclib().run_sync_in_worker_thread(\n",
      "  File \"C:\\Users\\Rain\\AppData\\Roaming\\Python\\Python310\\site-packages\\anyio\\_backends\\_asyncio.py\", line 937, in run_sync_in_worker_thread\n",
      "    return await future\n",
      "  File \"C:\\Users\\Rain\\AppData\\Roaming\\Python\\Python310\\site-packages\\anyio\\_backends\\_asyncio.py\", line 867, in run\n",
      "    result = context.run(func, *args)\n",
      "  File \"C:\\Users\\Rain\\AppData\\Local\\Temp\\ipykernel_22204\\3096534084.py\", line 23, in transcribe\n",
      "    resp = chatgpt_api.ask(result_text, conversation_id='105b62ba616f486681d49e013e8de874', parent_id=None) #revchat\n",
      "  File \"c:\\Python310\\lib\\site-packages\\revChatGPT\\ChatGPT.py\", line 119, in ask\n",
      "    raise Exception(\"Wrong response code! Refreshing session...\")\n",
      "Exception: Wrong response code! Refreshing session...\n"
     ]
    }
   ],
   "source": [
    "text_to_wav(\"en-US-Wavenet-C\", \"What is the temperature in Sydney?\")"
   ]
  },
  {
   "cell_type": "code",
   "execution_count": 50,
   "metadata": {},
   "outputs": [
    {
     "data": {
      "text/plain": [
       "0"
      ]
     },
     "execution_count": 50,
     "metadata": {},
     "output_type": "execute_result"
    }
   ],
   "source": [
    "# import vlc\n",
    "# # creating a vlc instance\n",
    "# vlc_instance = vlc.Instance()\n",
    "# # creating a media player\n",
    "# player = vlc_instance.media_player_new()\n",
    "\n",
    "# # creating a media\n",
    "# media = vlc_instance.media_new(\"out.WAV\")\n",
    "\n",
    "# # setting media to the player\n",
    "# player.set_media(media)\n",
    "\n",
    "# player.audio_set_volume(30)\n",
    "# player.play()"
   ]
  }
 ],
 "metadata": {
  "kernelspec": {
   "display_name": "Python 3.10.8 64-bit",
   "language": "python",
   "name": "python3"
  },
  "language_info": {
   "codemirror_mode": {
    "name": "ipython",
    "version": 3
   },
   "file_extension": ".py",
   "mimetype": "text/x-python",
   "name": "python",
   "nbconvert_exporter": "python",
   "pygments_lexer": "ipython3",
   "version": "3.10.8"
  },
  "orig_nbformat": 4,
  "vscode": {
   "interpreter": {
    "hash": "369f2c481f4da34e4445cda3fffd2e751bd1c4d706f27375911949ba6bb62e1c"
   }
  }
 },
 "nbformat": 4,
 "nbformat_minor": 2
}
